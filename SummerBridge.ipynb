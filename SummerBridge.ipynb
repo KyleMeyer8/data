{
 "cells": [
  {
   "cell_type": "code",
   "execution_count": null,
   "id": "2d1ee93c-9848-4e00-8962-b92c39fe9e51",
   "metadata": {},
   "outputs": [],
   "source": [
    "3 + 7"
   ]
  },
  {
   "cell_type": "code",
   "execution_count": null,
   "id": "afd25ec8-2452-4e94-84e8-d4dda157b132",
   "metadata": {},
   "outputs": [],
   "source": [
    "print(\"hello\")"
   ]
  },
  {
   "cell_type": "code",
   "execution_count": null,
   "id": "6d825502-39c9-4bd5-94bb-e8c234206692",
   "metadata": {},
   "outputs": [],
   "source": [
    "print(7)"
   ]
  },
  {
   "cell_type": "code",
   "execution_count": null,
   "id": "89b48fd6-aeed-48a0-92ab-f06977b5423e",
   "metadata": {},
   "outputs": [],
   "source": [
    "name = \"Kyle\"\n",
    "age = 42"
   ]
  },
  {
   "cell_type": "code",
   "execution_count": null,
   "id": "2d1ac437-db65-40ef-92c4-7033ceaae96a",
   "metadata": {},
   "outputs": [],
   "source": [
    "print(age)"
   ]
  },
  {
   "cell_type": "code",
   "execution_count": null,
   "id": "abd5e90f-f5c8-4a71-a8d5-542d2351db14",
   "metadata": {},
   "outputs": [],
   "source": [
    "# this is a comment. it won't run. use lots of comments\n",
    "# you can echo values without using print in this notebook\n",
    "name"
   ]
  },
  {
   "cell_type": "markdown",
   "id": "7b5f6f86-e7ef-4519-9076-f30173cf00ac",
   "metadata": {},
   "source": [
    "# Variables and Values"
   ]
  },
  {
   "cell_type": "code",
   "execution_count": null,
   "id": "7e0ebdba-81f6-4deb-a57b-5cbba275759b",
   "metadata": {},
   "outputs": [],
   "source": [
    "#variables can be used in calculations\n",
    "print(age)\n",
    "age = age + 3\n",
    "print(age)"
   ]
  },
  {
   "cell_type": "code",
   "execution_count": null,
   "id": "2a5adfec-aa45-4d06-be61-6b0cfe41e54c",
   "metadata": {},
   "outputs": [],
   "source": [
    "# order fo operations matters\n",
    "first = 1\n",
    "second = first * 5\n",
    "first = 2\n",
    "print (first)\n",
    "print(second)"
   ]
  },
  {
   "cell_type": "code",
   "execution_count": null,
   "id": "7e534010-5579-4578-96b8-e9141f5dcd81",
   "metadata": {},
   "outputs": [],
   "source": [
    "# values have types. types effect what you can do with them\n",
    "print(5-3)\n",
    "#print(\"hello\" - \"h\")"
   ]
  },
  {
   "cell_type": "code",
   "execution_count": null,
   "id": "f14d56f8-71ca-41b1-bf28-0561b5b975a5",
   "metadata": {},
   "outputs": [],
   "source": [
    "print(len(\"hello\"))\n",
    "#print(len(6))"
   ]
  },
  {
   "cell_type": "markdown",
   "id": "8b420b8c-ff4a-414b-8aed-e1ebdfc62001",
   "metadata": {},
   "source": [
    "## challenge\n",
    "explain what each operator does\n",
    "\n",
    "print(5 // 3)\n",
    "print(5 / 3)\n",
    "print(5 % 3)"
   ]
  },
  {
   "cell_type": "code",
   "execution_count": null,
   "id": "b34f4664-e7a9-47b8-8836-0642d5babf08",
   "metadata": {},
   "outputs": [],
   "source": [
    "print(5 // 3)\n",
    "# how many times 3 goes into 5. floor operator. main divisor"
   ]
  },
  {
   "cell_type": "code",
   "execution_count": null,
   "id": "70088368-d8d4-4d9c-8f07-c29da20635db",
   "metadata": {},
   "outputs": [],
   "source": [
    "print(5 / 3)\n",
    "# just division"
   ]
  },
  {
   "cell_type": "code",
   "execution_count": null,
   "id": "ebc0f3e8-8e91-4829-92a6-c28eb168e04a",
   "metadata": {},
   "outputs": [],
   "source": [
    "print(5 % 3)\n",
    "# remainder after 3 goes into 5. complement of first one. \"weirdly useful\" if trying to count things"
   ]
  },
  {
   "cell_type": "markdown",
   "id": "435c2a0c-3e33-43c3-9fe5-728f5dc8598d",
   "metadata": {},
   "source": [
    "# getting help"
   ]
  },
  {
   "cell_type": "code",
   "execution_count": null,
   "id": "ce6789a8-1867-46d1-a8f0-769d7f51c715",
   "metadata": {},
   "outputs": [],
   "source": [
    "# rounding numbers is built in\n",
    "round(3.14159)"
   ]
  },
  {
   "cell_type": "code",
   "execution_count": null,
   "id": "3d10b791-ae60-47cf-8ef6-11b1582ba439",
   "metadata": {},
   "outputs": [],
   "source": [
    "round(3.14159, 2)"
   ]
  },
  {
   "cell_type": "code",
   "execution_count": null,
   "id": "a546ced0-fd98-4943-b22c-73aac36e2ba5",
   "metadata": {},
   "outputs": [],
   "source": [
    "help(round)"
   ]
  },
  {
   "cell_type": "code",
   "execution_count": null,
   "id": "562aefc8-66fe-4bbf-a70d-73c78242ef0c",
   "metadata": {},
   "outputs": [],
   "source": [
    "# ndigits=none means optional, default is 0 if left blank\n",
    "round(3.14159,ndigits=2)\n",
    "# same exact thing"
   ]
  },
  {
   "cell_type": "code",
   "execution_count": null,
   "id": "eccd1cd7-5dfc-494d-8da2-337321c8816e",
   "metadata": {},
   "outputs": [],
   "source": [
    "# all functions return a new value\n",
    "rounded_pi = round(3.14159, 2)\n",
    "print(rounded_pi)"
   ]
  },
  {
   "cell_type": "markdown",
   "id": "cce0f0f3-111d-4911-8022-5beb77714e6e",
   "metadata": {},
   "source": [
    "## challenge\n",
    "\n",
    "what order do the operations happen?\n",
    "\n",
    "radiance = 1.0\n",
    "\n",
    "radiance = max(2.1, 2.0 + min(radiance, 1.1 * radiance - 0.5)"
   ]
  },
  {
   "cell_type": "code",
   "execution_count": null,
   "id": "4143e043-2015-4487-866d-c15e3f279750",
   "metadata": {},
   "outputs": [],
   "source": [
    "help(max)\n",
    "help(min)"
   ]
  },
  {
   "cell_type": "code",
   "execution_count": null,
   "id": "a0848d83-dd8a-4b9b-b879-501210a4e062",
   "metadata": {},
   "outputs": [],
   "source": [
    "radiance = 1.0\n",
    "radiance = max(2.1, 2.0 + min(radiance, 1.1 * radiance - 0.5))\n",
    "print(radiance)"
   ]
  },
  {
   "cell_type": "code",
   "execution_count": null,
   "id": "e3061095-95dd-4eba-8288-fd86fc2c2dd0",
   "metadata": {},
   "outputs": [],
   "source": [
    "# break down these operations\n",
    "radiance = 1.0\n",
    "min_arg_2 = 1.1 * radiance - 0.5\n",
    "print(\"min arg 2:\", min_arg_2)\n",
    "min_result = min(radiance, min_arg_2)\n",
    "print(\"min result:\", min_result)\n",
    "radiance = max(2.1, 2.0 + min_result)\n",
    "print(\"radiance:\", radiance)"
   ]
  },
  {
   "cell_type": "markdown",
   "id": "3d7bce1e-345b-4a61-9e34-fc0ded9bca1f",
   "metadata": {},
   "source": [
    "# A brief interlude with git"
   ]
  },
  {
   "cell_type": "code",
   "execution_count": null,
   "id": "4825c3e7-4560-47d4-b6bf-d6be034c08fa",
   "metadata": {},
   "outputs": [],
   "source": []
  }
 ],
 "metadata": {
  "kernelspec": {
   "display_name": "Python 3 (ipykernel)",
   "language": "python",
   "name": "python3"
  },
  "language_info": {
   "codemirror_mode": {
    "name": "ipython",
    "version": 3
   },
   "file_extension": ".py",
   "mimetype": "text/x-python",
   "name": "python",
   "nbconvert_exporter": "python",
   "pygments_lexer": "ipython3",
   "version": "3.12.4"
  }
 },
 "nbformat": 4,
 "nbformat_minor": 5
}
