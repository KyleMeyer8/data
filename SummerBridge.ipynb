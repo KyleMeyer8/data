{
 "cells": [
  {
   "cell_type": "code",
   "execution_count": null,
   "id": "2d1ee93c-9848-4e00-8962-b92c39fe9e51",
   "metadata": {},
   "outputs": [],
   "source": [
    "3 + 7"
   ]
  },
  {
   "cell_type": "code",
   "execution_count": null,
   "id": "afd25ec8-2452-4e94-84e8-d4dda157b132",
   "metadata": {},
   "outputs": [],
   "source": [
    "print(\"hello\")"
   ]
  },
  {
   "cell_type": "code",
   "execution_count": null,
   "id": "6d825502-39c9-4bd5-94bb-e8c234206692",
   "metadata": {},
   "outputs": [],
   "source": [
    "print(7)"
   ]
  },
  {
   "cell_type": "code",
   "execution_count": null,
   "id": "89b48fd6-aeed-48a0-92ab-f06977b5423e",
   "metadata": {},
   "outputs": [],
   "source": [
    "name = \"Kyle\"\n",
    "age = 42"
   ]
  },
  {
   "cell_type": "code",
   "execution_count": null,
   "id": "2d1ac437-db65-40ef-92c4-7033ceaae96a",
   "metadata": {},
   "outputs": [],
   "source": [
    "print(age)"
   ]
  },
  {
   "cell_type": "code",
   "execution_count": null,
   "id": "abd5e90f-f5c8-4a71-a8d5-542d2351db14",
   "metadata": {},
   "outputs": [],
   "source": [
    "# this is a comment. it won't run. use lots of comments\n",
    "# you can echo values without using print in this notebook\n",
    "name"
   ]
  },
  {
   "cell_type": "markdown",
   "id": "7b5f6f86-e7ef-4519-9076-f30173cf00ac",
   "metadata": {},
   "source": [
    "# Variables and Values"
   ]
  },
  {
   "cell_type": "code",
   "execution_count": null,
   "id": "7e0ebdba-81f6-4deb-a57b-5cbba275759b",
   "metadata": {},
   "outputs": [],
   "source": [
    "#variables can be used in calculations\n",
    "print(age)\n",
    "age = age + 3\n",
    "print(age)"
   ]
  },
  {
   "cell_type": "code",
   "execution_count": null,
   "id": "2a5adfec-aa45-4d06-be61-6b0cfe41e54c",
   "metadata": {},
   "outputs": [],
   "source": [
    "# order fo operations matters\n",
    "first = 1\n",
    "second = first * 5\n",
    "first = 2\n",
    "print (first)\n",
    "print(second)"
   ]
  },
  {
   "cell_type": "code",
   "execution_count": null,
   "id": "7e534010-5579-4578-96b8-e9141f5dcd81",
   "metadata": {},
   "outputs": [],
   "source": [
    "# values have types. types effect what you can do with them\n",
    "print(5-3)\n",
    "#print(\"hello\" - \"h\")"
   ]
  },
  {
   "cell_type": "code",
   "execution_count": null,
   "id": "f14d56f8-71ca-41b1-bf28-0561b5b975a5",
   "metadata": {},
   "outputs": [],
   "source": [
    "print(len(\"hello\"))\n",
    "#print(len(6))"
   ]
  },
  {
   "cell_type": "markdown",
   "id": "8b420b8c-ff4a-414b-8aed-e1ebdfc62001",
   "metadata": {},
   "source": [
    "## challenge\n",
    "explain what each operator does\n",
    "\n",
    "print(5 // 3)\n",
    "print(5 / 3)\n",
    "print(5 % 3)"
   ]
  },
  {
   "cell_type": "code",
   "execution_count": null,
   "id": "b34f4664-e7a9-47b8-8836-0642d5babf08",
   "metadata": {},
   "outputs": [],
   "source": [
    "print(5 // 3)\n",
    "# how many times 3 goes into 5. floor operator. main divisor"
   ]
  },
  {
   "cell_type": "code",
   "execution_count": null,
   "id": "70088368-d8d4-4d9c-8f07-c29da20635db",
   "metadata": {},
   "outputs": [],
   "source": [
    "print(5 / 3)\n",
    "# just division"
   ]
  },
  {
   "cell_type": "code",
   "execution_count": null,
   "id": "ebc0f3e8-8e91-4829-92a6-c28eb168e04a",
   "metadata": {},
   "outputs": [],
   "source": [
    "print(5 % 3)\n",
    "# remainder after 3 goes into 5. complement of first one. \"weirdly useful\" if trying to count things"
   ]
  },
  {
   "cell_type": "markdown",
   "id": "435c2a0c-3e33-43c3-9fe5-728f5dc8598d",
   "metadata": {},
   "source": [
    "# getting help"
   ]
  },
  {
   "cell_type": "code",
   "execution_count": null,
   "id": "ce6789a8-1867-46d1-a8f0-769d7f51c715",
   "metadata": {},
   "outputs": [],
   "source": [
    "# rounding numbers is built in\n",
    "round(3.14159)"
   ]
  },
  {
   "cell_type": "code",
   "execution_count": null,
   "id": "3d10b791-ae60-47cf-8ef6-11b1582ba439",
   "metadata": {},
   "outputs": [],
   "source": [
    "round(3.14159, 2)"
   ]
  },
  {
   "cell_type": "code",
   "execution_count": null,
   "id": "a546ced0-fd98-4943-b22c-73aac36e2ba5",
   "metadata": {},
   "outputs": [],
   "source": [
    "help(round)"
   ]
  },
  {
   "cell_type": "code",
   "execution_count": null,
   "id": "562aefc8-66fe-4bbf-a70d-73c78242ef0c",
   "metadata": {},
   "outputs": [],
   "source": [
    "# ndigits=none means optional, default is 0 if left blank\n",
    "round(3.14159,ndigits=2)\n",
    "# same exact thing"
   ]
  },
  {
   "cell_type": "code",
   "execution_count": null,
   "id": "eccd1cd7-5dfc-494d-8da2-337321c8816e",
   "metadata": {},
   "outputs": [],
   "source": [
    "# all functions return a new value\n",
    "rounded_pi = round(3.14159, 2)\n",
    "print(rounded_pi)"
   ]
  },
  {
   "cell_type": "markdown",
   "id": "cce0f0f3-111d-4911-8022-5beb77714e6e",
   "metadata": {},
   "source": [
    "## challenge\n",
    "\n",
    "what order do the operations happen?\n",
    "\n",
    "radiance = 1.0\n",
    "\n",
    "radiance = max(2.1, 2.0 + min(radiance, 1.1 * radiance - 0.5)"
   ]
  },
  {
   "cell_type": "code",
   "execution_count": null,
   "id": "4143e043-2015-4487-866d-c15e3f279750",
   "metadata": {},
   "outputs": [],
   "source": [
    "help(max)\n",
    "help(min)"
   ]
  },
  {
   "cell_type": "code",
   "execution_count": null,
   "id": "a0848d83-dd8a-4b9b-b879-501210a4e062",
   "metadata": {},
   "outputs": [],
   "source": [
    "radiance = 1.0\n",
    "radiance = max(2.1, 2.0 + min(radiance, 1.1 * radiance - 0.5))\n",
    "print(radiance)"
   ]
  },
  {
   "cell_type": "code",
   "execution_count": null,
   "id": "e3061095-95dd-4eba-8288-fd86fc2c2dd0",
   "metadata": {},
   "outputs": [],
   "source": [
    "# break down these operations\n",
    "radiance = 1.0\n",
    "min_arg_2 = 1.1 * radiance - 0.5\n",
    "print(\"min arg 2:\", min_arg_2)\n",
    "min_result = min(radiance, min_arg_2)\n",
    "print(\"min result:\", min_result)\n",
    "radiance = max(2.1, 2.0 + min_result)\n",
    "print(\"radiance:\", radiance)"
   ]
  },
  {
   "cell_type": "markdown",
   "id": "3d7bce1e-345b-4a61-9e34-fc0ded9bca1f",
   "metadata": {},
   "source": [
    "# A brief interlude with git"
   ]
  },
  {
   "cell_type": "markdown",
   "id": "dc2fa9ca-b1b8-4860-8770-493e54ec2e48",
   "metadata": {},
   "source": [
    "# libraries"
   ]
  },
  {
   "cell_type": "code",
   "execution_count": null,
   "id": "d20954d4-ebed-4b5e-bc14-6427dbd533d4",
   "metadata": {},
   "outputs": [],
   "source": [
    "import math\n",
    "#math is a library"
   ]
  },
  {
   "cell_type": "code",
   "execution_count": null,
   "id": "b7ba5d85-ede7-4584-90b9-dd5a3fe2c652",
   "metadata": {},
   "outputs": [],
   "source": [
    "math.pi"
   ]
  },
  {
   "cell_type": "code",
   "execution_count": null,
   "id": "95396fb3-9d04-4723-8730-2554975500ec",
   "metadata": {},
   "outputs": [],
   "source": [
    "print(math.pi)\n",
    "print(math.cos(math.pi))"
   ]
  },
  {
   "cell_type": "code",
   "execution_count": null,
   "id": "802a2426-e7fd-411e-8f19-52926b7fb39a",
   "metadata": {},
   "outputs": [],
   "source": [
    "# get complete help with help()\n",
    "# get list of options with dir()\n",
    "#help(math)\n",
    "print(dir(math))"
   ]
  },
  {
   "cell_type": "code",
   "execution_count": null,
   "id": "58bc783d-8cb7-4648-a6b3-4ac30e247b9c",
   "metadata": {},
   "outputs": [],
   "source": [
    "#docs.python.org is exhaustive"
   ]
  },
  {
   "cell_type": "markdown",
   "id": "8e5131d9-143d-48e2-a184-0550b2944f7d",
   "metadata": {},
   "source": [
    "# list"
   ]
  },
  {
   "cell_type": "code",
   "execution_count": null,
   "id": "eea7d533-4f47-4a69-8fef-09ec8c3f269b",
   "metadata": {},
   "outputs": [],
   "source": [
    "# a list is and ordered collection of stuff, use square brackets with lists\n",
    "fruit = [\"apple\", \"banana\", \"cherry\", \"date\", \"elderberry\", \"fig\"]"
   ]
  },
  {
   "cell_type": "code",
   "execution_count": null,
   "id": "d73bc9ef-fa0a-4b6b-82c8-77c772523830",
   "metadata": {},
   "outputs": [],
   "source": [
    "fruit"
   ]
  },
  {
   "cell_type": "code",
   "execution_count": null,
   "id": "5ac20eda-791f-4fa3-98a9-78a58fb1748e",
   "metadata": {},
   "outputs": [],
   "source": [
    "len(fruit)"
   ]
  },
  {
   "cell_type": "code",
   "execution_count": null,
   "id": "a7290360-b1b7-42df-a49a-3b67851d1744",
   "metadata": {},
   "outputs": [],
   "source": [
    "# lists are indexed by position counting from 0\n",
    "# first item\n",
    "print(fruit[0])\n",
    "\n",
    "#fifth item\n",
    "print(fruit[4])"
   ]
  },
  {
   "cell_type": "code",
   "execution_count": null,
   "id": "bd89416f-9d10-4023-97cd-214d412a1027",
   "metadata": {},
   "outputs": [],
   "source": [
    "# get subsets by slicing list\n",
    "# get first 3 items\n",
    "fruit[0:3]\n",
    "# up to but not including 4th item"
   ]
  },
  {
   "cell_type": "code",
   "execution_count": null,
   "id": "e62eb5a2-6c9a-48a5-ad69-93127e8402bc",
   "metadata": {},
   "outputs": [],
   "source": [
    "fruit[2:5]\n",
    "# 3 up to but not including 6th"
   ]
  },
  {
   "cell_type": "code",
   "execution_count": null,
   "id": "ef99f3d7-3edf-4c5b-b0c1-24a0bff4abad",
   "metadata": {},
   "outputs": [],
   "source": [
    "#get items by step\n",
    "#get first 5 items, every other item\n",
    "fruit[0:5:2]"
   ]
  },
  {
   "cell_type": "code",
   "execution_count": null,
   "id": "4c538ebf-150b-4a3d-9a9f-9c7d9a76d7c0",
   "metadata": {},
   "outputs": [],
   "source": [
    "fruit[0:5:3]"
   ]
  },
  {
   "cell_type": "code",
   "execution_count": null,
   "id": "b34a128b-d272-46cd-b2d8-6f3ec7c900f2",
   "metadata": {},
   "outputs": [],
   "source": [
    "fruit[0:100]"
   ]
  },
  {
   "cell_type": "markdown",
   "id": "1acc2261-7021-4317-879d-c3150b55dce7",
   "metadata": {},
   "source": [
    "# challenge\n",
    "what are the following statements doing?\n",
    "\n",
    "fruit[-1]\n",
    "\n",
    "fruit[20]\n",
    "\n",
    "fruit[-3:]"
   ]
  },
  {
   "cell_type": "code",
   "execution_count": null,
   "id": "ce48446c-fe94-40e6-815b-d2005ba289ab",
   "metadata": {},
   "outputs": [],
   "source": [
    "fruit[-1]"
   ]
  },
  {
   "cell_type": "code",
   "execution_count": null,
   "id": "c47f9c6c-1113-4e3d-93e4-cda3d7edeb21",
   "metadata": {},
   "outputs": [],
   "source": [
    "#fruit[20]"
   ]
  },
  {
   "cell_type": "code",
   "execution_count": null,
   "id": "d19dd1ce-8b1c-4f76-b8b4-6aa4af245f26",
   "metadata": {},
   "outputs": [],
   "source": [
    "fruit[-3:]"
   ]
  },
  {
   "cell_type": "code",
   "execution_count": null,
   "id": "05659a41-0b20-4b19-be30-9e0c961bd4a7",
   "metadata": {},
   "outputs": [],
   "source": [
    "fruit[-3]"
   ]
  },
  {
   "cell_type": "code",
   "execution_count": null,
   "id": "7401a434-b24c-452d-9ceb-2eb5129cce00",
   "metadata": {},
   "outputs": [],
   "source": [
    "# why are fruit indexed this way?\n",
    "print(fruit[:2])\n",
    "print(fruit[2:])\n",
    "print(len(fruit[1:3]))"
   ]
  },
  {
   "cell_type": "markdown",
   "id": "eb3a8489-175e-40b3-8975-2fe43ebcf0dc",
   "metadata": {},
   "source": [
    "## adding stuff to lists"
   ]
  },
  {
   "cell_type": "code",
   "execution_count": null,
   "id": "ea4b7a5b-5209-47d4-a1c0-f33ccc6a347c",
   "metadata": {},
   "outputs": [],
   "source": [
    "#update a specific list\n",
    "print(fruit)\n",
    "fruit[0] = \"apricot\"\n",
    "print(fruit)"
   ]
  },
  {
   "cell_type": "code",
   "execution_count": null,
   "id": "f54689eb-7fd4-47b1-9495-6fff9b9b7e95",
   "metadata": {},
   "outputs": [],
   "source": [
    "# add new items to list\n",
    "fruit.append(\"grape\")\n",
    "print(fruit)"
   ]
  },
  {
   "cell_type": "code",
   "execution_count": null,
   "id": "b478e2d0-ef21-49f5-b7ca-84dd519c2778",
   "metadata": {},
   "outputs": [],
   "source": [
    "# add items from 2nd list to 1st list\n",
    "more_fruit = [\"honeydew\", \"imbe\", \"jackfruit\"]\n",
    "fruit.extend(more_fruit)\n",
    "print(fruit)\n",
    "print(more_fruit)"
   ]
  },
  {
   "cell_type": "code",
   "execution_count": null,
   "id": "78b0b9ba-9466-4969-bb87-eac2756fea46",
   "metadata": {},
   "outputs": [],
   "source": [
    "# many funcitons operate on collections\n",
    "# assessing our wide receiving corp\n",
    "receiving_yards = [450, 370, 870, 150]\n",
    "mean_yards = sum(receiving_yards)/len(receiving_yards)\n",
    "print(mean_yards)"
   ]
  },
  {
   "cell_type": "markdown",
   "id": "d262854d-0fa1-40ac-9307-079f988fedc5",
   "metadata": {},
   "source": [
    "# for loops"
   ]
  },
  {
   "cell_type": "code",
   "execution_count": null,
   "id": "aaad3b1b-390d-4984-855d-25dab585530c",
   "metadata": {},
   "outputs": [],
   "source": [
    "for fruip in fruit:\n",
    "    print(fruip)"
   ]
  },
  {
   "cell_type": "code",
   "execution_count": null,
   "id": "ca93d650-4f3b-4b64-9712-ed9dee1f1957",
   "metadata": {},
   "outputs": [],
   "source": [
    "for bob in fruit:\n",
    "    print(bob)\n",
    "#bob is temp variable"
   ]
  },
  {
   "cell_type": "code",
   "execution_count": null,
   "id": "1788193a-23d3-4b35-9996-9140f11ff35c",
   "metadata": {},
   "outputs": [],
   "source": [
    "# code blocks can contain many statements\n",
    "primes = [2, 3, 5]\n",
    "for p in primes:\n",
    "    squared = p ** 2\n",
    "    cubed = p ** 3\n",
    "    print(p, squared, cubed)\n",
    "# ** is to power of"
   ]
  },
  {
   "cell_type": "code",
   "execution_count": null,
   "id": "a95a76fe-0fa8-4928-8695-d89621d2ef5b",
   "metadata": {},
   "outputs": [],
   "source": [
    "# create a new collection from an existing collection\n",
    "primes_squared = []\n",
    "for p in primes:\n",
    "    primes_squared.append(p ** 2)\n",
    "print(primes_squared)"
   ]
  },
  {
   "cell_type": "markdown",
   "id": "52c344a6-97e3-41f7-abd9-dd8d38e1da9f",
   "metadata": {},
   "source": [
    "# challenge\n",
    "\n",
    "get the total length of all the items in the fruits list"
   ]
  },
  {
   "cell_type": "code",
   "execution_count": null,
   "id": "02e49acd-3978-465a-a991-91dfb425be64",
   "metadata": {},
   "outputs": [],
   "source": [
    "fruit_length = []\n",
    "for bob in fruit:\n",
    "    fruit_length.append(len(bob))\n",
    "    \n",
    "print(fruit_length)\n",
    "print(sum(fruit_length))"
   ]
  },
  {
   "cell_type": "code",
   "execution_count": null,
   "id": "3c9a55ae-577c-4ee3-8cb0-39fab691e5ff",
   "metadata": {},
   "outputs": [],
   "source": [
    "# solutions\n",
    "fruit_length2 = []\n",
    "for bob in fruit:\n",
    "    fruit_length2.append(len(bob))\n",
    "\n",
    "print(fruit_length2)\n",
    "print(sum(fruit_length2))"
   ]
  },
  {
   "cell_type": "code",
   "execution_count": null,
   "id": "2b759a32-16af-4f26-ac32-e8c022211500",
   "metadata": {},
   "outputs": [],
   "source": [
    "# sol 2\n",
    "count = 0\n",
    "for bob in fruit:\n",
    "    count = count+len(bob)\n",
    "    print(count)\n",
    "print(\"final count\", count)"
   ]
  },
  {
   "cell_type": "code",
   "execution_count": null,
   "id": "76083025-1b98-40f5-a322-a2d11885bf16",
   "metadata": {},
   "outputs": [],
   "source": [
    "# generator comprehension\n",
    "sum(len(bob) for bob in fruit)"
   ]
  },
  {
   "cell_type": "code",
   "execution_count": null,
   "id": "e51b5f33-6af8-4e0e-81fc-29be71174ea9",
   "metadata": {},
   "outputs": [],
   "source": [
    "len(\"\".join(fruit))"
   ]
  },
  {
   "cell_type": "code",
   "execution_count": null,
   "id": "7d3593a0-4b78-4d25-a471-0b5622df9650",
   "metadata": {},
   "outputs": [],
   "source": [
    "print(\"\".join(fruit))"
   ]
  },
  {
   "cell_type": "markdown",
   "id": "7273db1d-ed66-4d52-bd9b-21c14e61a2cd",
   "metadata": {},
   "source": [
    "# linear algebra with numpy"
   ]
  },
  {
   "cell_type": "code",
   "execution_count": null,
   "id": "e2534c8e-6c02-4e76-b47a-4f901e880ca0",
   "metadata": {},
   "outputs": [],
   "source": [
    "import numpy as nm"
   ]
  },
  {
   "cell_type": "code",
   "execution_count": null,
   "id": "872a0962-1258-4d08-b8d7-5d4d46215c1b",
   "metadata": {},
   "outputs": [],
   "source": [
    "# creat an array of random numbers. rand = rando array of numbers between 0 and 1, 3 rows, 4 columns\n",
    "m_rand = nm.random.rand(3, 4)\n",
    "print(m_rand)"
   ]
  },
  {
   "cell_type": "code",
   "execution_count": null,
   "id": "29e075de-a685-45d8-9b88-460d694e756d",
   "metadata": {},
   "outputs": [],
   "source": [
    "#looks like 3 lists stacked. can treat it as list with location\n",
    "m_rand[0,0]"
   ]
  },
  {
   "cell_type": "code",
   "execution_count": null,
   "id": "cc9aa99f-f7a1-480a-b49f-0a5163c92b6d",
   "metadata": {},
   "outputs": [],
   "source": [
    "# row, column\n",
    "m_rand[0,1]"
   ]
  },
  {
   "cell_type": "code",
   "execution_count": null,
   "id": "224a7bc9-5ea2-4a6e-9afa-78f0efa0b849",
   "metadata": {},
   "outputs": [],
   "source": [
    "# arrays have attributes\n",
    "print(m_rand.shape)\n",
    "print(m_rand.size)\n",
    "print(m_rand.ndim)\n",
    "#ndim = number of dimensions"
   ]
  },
  {
   "cell_type": "code",
   "execution_count": null,
   "id": "b156047a-6453-4da1-ac73-f4b4741a2eed",
   "metadata": {},
   "outputs": [],
   "source": [
    "# linear algebra (matrix stuff)\n",
    "x = nm.arange(9)\n",
    "y = nm.arange(9)\n",
    "print(x)\n",
    "print(y)"
   ]
  },
  {
   "cell_type": "code",
   "execution_count": null,
   "id": "19c3178e-a798-4c77-a5b2-2153fd73957b",
   "metadata": {},
   "outputs": [],
   "source": [
    "# operations are element-wise by default\n",
    "x * y"
   ]
  },
  {
   "cell_type": "code",
   "execution_count": null,
   "id": "50196a36-3f6d-413e-aaf5-365e94e16422",
   "metadata": {},
   "outputs": [],
   "source": [
    "# matrix-wise operations if you like, multiply matrices to get dot product\n",
    "x @ y"
   ]
  },
  {
   "cell_type": "code",
   "execution_count": null,
   "id": "e618ee1d-014d-4d10-8994-fa09e1e74e31",
   "metadata": {},
   "outputs": [],
   "source": [
    "# you can reshape arrays\n",
    "x1 = x.reshape(3, 3)\n",
    "x2 = x.reshape(9, 1)\n",
    "print(x)\n",
    "print(x1)\n",
    "print(x2)"
   ]
  },
  {
   "cell_type": "markdown",
   "id": "6641e481-f365-4c6b-aef9-28511db0567b",
   "metadata": {},
   "source": [
    "# challenge\n",
    "\n",
    "1. creat a 3 x 3 array containing numbers 0-8\n",
    "\n",
    "2. multiply array by itself (element-wise)\n",
    "\n",
    "3. consult documentation or google. multiple array by its transpose (x and y flipped)\n",
    "\n",
    "4. divide array by itself"
   ]
  },
  {
   "cell_type": "code",
   "execution_count": null,
   "id": "5082a959-72e9-45f0-97ec-494df7940536",
   "metadata": {},
   "outputs": [],
   "source": [
    "k = nm.arange(9)\n",
    "k1 = k.reshape(3, 3)\n",
    "print(k)\n",
    "print(k1)"
   ]
  },
  {
   "cell_type": "code",
   "execution_count": null,
   "id": "11913647-3c4b-492c-b117-71e41c7f2735",
   "metadata": {},
   "outputs": [],
   "source": [
    "# more concise with method chaining to do more work on one line\n",
    "#demo = np.arange(9).reshape(3, 3)\n",
    "#print(demo)"
   ]
  },
  {
   "cell_type": "code",
   "execution_count": null,
   "id": "8e5ea331-3229-4d3d-94ec-0c4be8be43e3",
   "metadata": {},
   "outputs": [],
   "source": [
    "k1 * k1"
   ]
  },
  {
   "cell_type": "code",
   "execution_count": null,
   "id": "d0410bb5-f232-480a-803d-6973d8aa9280",
   "metadata": {},
   "outputs": [],
   "source": [
    "# transpose array\n",
    "print(k1.T)"
   ]
  },
  {
   "cell_type": "code",
   "execution_count": null,
   "id": "7b2a2181-e836-4113-8727-159f32799520",
   "metadata": {},
   "outputs": [],
   "source": [
    "k1 * k1.T"
   ]
  },
  {
   "cell_type": "code",
   "execution_count": null,
   "id": "4b545ec6-ec48-4628-8c82-3fb820abe152",
   "metadata": {},
   "outputs": [],
   "source": [
    "# get transpose method 1\n",
    "#demo * demo.T"
   ]
  },
  {
   "cell_type": "code",
   "execution_count": null,
   "id": "352f6a3b-790d-439d-b1a5-b760ffb97205",
   "metadata": {},
   "outputs": [],
   "source": [
    "#m method 2\n",
    "#demo * nm.transpose(demo)"
   ]
  },
  {
   "cell_type": "code",
   "execution_count": null,
   "id": "08da650d-e58c-4b6f-b5f3-74a97f00e965",
   "metadata": {},
   "outputs": [],
   "source": [
    "#k1 / k1 gives error cuz divide by 0"
   ]
  },
  {
   "cell_type": "markdown",
   "id": "2d0c4a1b-6385-4e09-ac91-e39ff081a854",
   "metadata": {},
   "source": [
    "# working with data in pandas"
   ]
  },
  {
   "cell_type": "code",
   "execution_count": null,
   "id": "02152b1f-59bc-4069-b087-cbc344b299b7",
   "metadata": {},
   "outputs": [],
   "source": [
    "import pandas as pd"
   ]
  },
  {
   "cell_type": "code",
   "execution_count": null,
   "id": "4d0f6568-f739-4ca8-afcb-0e904e4272e1",
   "metadata": {},
   "outputs": [],
   "source": [
    "# importing data file\n",
    "data = pd.read_csv(\"gapminder_gdp_oceania.csv\")\n",
    "print(data)"
   ]
  },
  {
   "cell_type": "code",
   "execution_count": null,
   "id": "06fa3958-5052-43be-9501-28a1ef08700d",
   "metadata": {},
   "outputs": [],
   "source": [
    "data"
   ]
  },
  {
   "cell_type": "code",
   "execution_count": null,
   "id": "b5cc1909-e91b-40a6-8ea1-61936b92a8cc",
   "metadata": {},
   "outputs": [],
   "source": [
    "# import csv and index by country name\n",
    "data = pd.read_csv(\"gapminder_gdp_oceania.csv\", index_col = \"country\")"
   ]
  },
  {
   "cell_type": "code",
   "execution_count": null,
   "id": "dd304451-ece7-411b-9d20-af24414dfe48",
   "metadata": {},
   "outputs": [],
   "source": [
    "# good advice about pythn\n",
    "import this"
   ]
  },
  {
   "cell_type": "code",
   "execution_count": null,
   "id": "ae642698-9a28-47f7-8919-0ada4a92675f",
   "metadata": {},
   "outputs": [],
   "source": [
    "data"
   ]
  },
  {
   "cell_type": "code",
   "execution_count": null,
   "id": "343a4fb0-20d4-48e6-9a0c-07db9d185dd5",
   "metadata": {},
   "outputs": [],
   "source": [
    "# data frames have attributes\n",
    "print(data.index)\n",
    "print(data.columns)\n",
    "print(data.shape)"
   ]
  },
  {
   "cell_type": "code",
   "execution_count": null,
   "id": "6d9c2297-0384-41c4-a2ba-dba78c1112ad",
   "metadata": {},
   "outputs": [],
   "source": [
    "# data frames can tell you about their contents\n",
    "data.info()"
   ]
  },
  {
   "cell_type": "code",
   "execution_count": null,
   "id": "ad4c2407-b35c-495a-a261-acf49dc61d6b",
   "metadata": {},
   "outputs": [],
   "source": [
    "# get descriptive statistics\n",
    "data.describe()"
   ]
  },
  {
   "cell_type": "code",
   "execution_count": null,
   "id": "35b8530b-0134-4e79-9c78-c80bc9b45600",
   "metadata": {},
   "outputs": [],
   "source": [
    "# get first N rows, head = top\n",
    "data.head(1)"
   ]
  },
  {
   "cell_type": "code",
   "execution_count": null,
   "id": "cc758edd-4d32-4393-9550-665392a8f6e8",
   "metadata": {},
   "outputs": [],
   "source": [
    "data.T.describe()"
   ]
  },
  {
   "cell_type": "markdown",
   "id": "a7ed20ac-cafe-4315-a801-a5c6559e367e",
   "metadata": {},
   "source": [
    "# subsetting data"
   ]
  },
  {
   "cell_type": "code",
   "execution_count": null,
   "id": "8b6e1f2a-66a5-480f-a772-5a75ab45ea7c",
   "metadata": {},
   "outputs": [],
   "source": [
    "#overwriting data cuz whatevs, file name includes where the file is vs where you are\n",
    "data = pd.read_csv(\"gapminder_gdp_europe.csv\", index_col = \"country\")"
   ]
  },
  {
   "cell_type": "code",
   "execution_count": null,
   "id": "e5036af4-08e1-4c99-b7a4-46df7c9f0c81",
   "metadata": {},
   "outputs": [],
   "source": [
    "data.head(3)"
   ]
  },
  {
   "cell_type": "code",
   "execution_count": null,
   "id": "2b37ee2c-bbaf-469a-b315-e96e301d0aa6",
   "metadata": {},
   "outputs": [],
   "source": [
    "# get item by index location, iloc = index location\n",
    "data.iloc[0, 1]"
   ]
  },
  {
   "cell_type": "code",
   "execution_count": null,
   "id": "f17b1fc7-de77-458e-8456-d965c93bf34b",
   "metadata": {},
   "outputs": [],
   "source": [
    "# get item by label\n",
    "data.loc[\"Albania\", \"gdpPercap_1952\"]"
   ]
  },
  {
   "cell_type": "markdown",
   "id": "d5d5f990-d47a-4052-9e5c-f0b062ad8f89",
   "metadata": {},
   "source": [
    "# a brief digression on string methods"
   ]
  },
  {
   "cell_type": "code",
   "execution_count": null,
   "id": "238d2a42-2ba0-4e07-bd69-f5bfcf92ff60",
   "metadata": {},
   "outputs": [],
   "source": [
    "# standard python has string methods\n",
    "big_hello = \"hello\". title()\n",
    "print(big_hello)"
   ]
  },
  {
   "cell_type": "code",
   "execution_count": null,
   "id": "53773b4a-2419-4c4a-a5c7-379b4780fb9a",
   "metadata": {},
   "outputs": [],
   "source": [
    "help(\"hello\".title)"
   ]
  },
  {
   "cell_type": "code",
   "execution_count": null,
   "id": "774e306d-158d-4770-9d8e-a0bdecdddc32",
   "metadata": {},
   "outputs": [],
   "source": [
    "# what methods are available?\n",
    "print(dir(\"hello\"))"
   ]
  },
  {
   "cell_type": "code",
   "execution_count": null,
   "id": "9cdd624b-da99-4534-b4b6-bd36b13f6dcc",
   "metadata": {},
   "outputs": [],
   "source": [
    "print(data.columns)"
   ]
  },
  {
   "cell_type": "code",
   "execution_count": null,
   "id": "d7ac2719-d8c4-4515-a398-9ffb91d82eb4",
   "metadata": {},
   "outputs": [],
   "source": [
    "print(dir(data.columns.str))"
   ]
  },
  {
   "cell_type": "code",
   "execution_count": null,
   "id": "9a0f1abc-f5b9-4a9f-8c9b-16fc4b2b5c78",
   "metadata": {},
   "outputs": [],
   "source": [
    "# rewrite column headers to strip off leading text\n",
    "data.columns = data.columns.str.strip(\"gdpPercap_\")\n",
    "print(data.columns)"
   ]
  },
  {
   "cell_type": "code",
   "execution_count": null,
   "id": "3c95aede-cf45-461c-838a-3d81ce7ea4f9",
   "metadata": {},
   "outputs": [],
   "source": [
    "data.loc[\"Albania\", \"1952\"]"
   ]
  },
  {
   "cell_type": "code",
   "execution_count": null,
   "id": "a52b721c-a487-4ed9-ba2c-a97e5048e0c5",
   "metadata": {},
   "outputs": [],
   "source": [
    "#inclusive locations now....ugh\n",
    "subset = data.loc[\"Italy\":\"Poland\", \"1962\":\"1972\"]"
   ]
  },
  {
   "cell_type": "code",
   "execution_count": null,
   "id": "56f9133d-e48f-464e-9767-0aa28eadcc1b",
   "metadata": {},
   "outputs": [],
   "source": [
    "subset"
   ]
  },
  {
   "cell_type": "code",
   "execution_count": null,
   "id": "67ff014e-fbca-42bd-97b1-694ab60f3e6f",
   "metadata": {},
   "outputs": [],
   "source": [
    "# get all of the variables (columns) or a subset of rows, some rows but all columns\n",
    "data.loc[\"Italy\":\"Poland\", :]"
   ]
  },
  {
   "cell_type": "code",
   "execution_count": null,
   "id": "2b0ff5b5-704b-482f-a651-8adc096059bc",
   "metadata": {},
   "outputs": [],
   "source": [
    "subset.describe()"
   ]
  },
  {
   "cell_type": "code",
   "execution_count": null,
   "id": "25c390b1-bb2d-46ea-8b82-0a96b4e4e6e6",
   "metadata": {},
   "outputs": [],
   "source": [
    "#everything is column by default\n",
    "subset.max()"
   ]
  },
  {
   "cell_type": "markdown",
   "id": "580dd57f-8af2-4a76-b9fb-31cdf9a94119",
   "metadata": {},
   "source": [
    "# challenge\n",
    "\n",
    "1. calculate subset.max() and assign results to variable. what kind of thing is it?\n",
    "\n",
    "2. what is the maximum value of new thing?\n",
    "\n",
    "3. can you calculate the max value of new thing in 1 step?"
   ]
  },
  {
   "cell_type": "code",
   "execution_count": null,
   "id": "6af483e0-1ca8-4a3e-a9c6-aa68d668ba36",
   "metadata": {},
   "outputs": [],
   "source": [
    "dog = subset.max()\n",
    "print(dog)\n",
    "dog.max()"
   ]
  },
  {
   "cell_type": "code",
   "execution_count": null,
   "id": "cbae9d82-245e-42c5-98cb-67ee16203167",
   "metadata": {},
   "outputs": [],
   "source": [
    "print(type(subset))\n",
    "print(type(dog))"
   ]
  },
  {
   "cell_type": "code",
   "execution_count": null,
   "id": "e690a441-740a-4a28-8f2d-98e39c902ab3",
   "metadata": {},
   "outputs": [],
   "source": [
    "# solution 1\n",
    "subset.max().max()"
   ]
  },
  {
   "cell_type": "code",
   "execution_count": null,
   "id": "12e4356a-a062-4f8f-b575-9acd06b6d580",
   "metadata": {},
   "outputs": [],
   "source": [
    "# solution 2\n",
    "print(\"default max\")\n",
    "print(subset.max())\n",
    "print(\"max along axis 0\")\n",
    "print(subset.max(axis = 0))\n",
    "#axis 0 is default and uppy downy\n",
    "print(\"max along axis 1\")\n",
    "print(subset.max(axis = 1))\n",
    "#axis 1 = lefty righty"
   ]
  },
  {
   "cell_type": "code",
   "execution_count": null,
   "id": "713c17a6-a5e2-450e-8891-a230a80d63bc",
   "metadata": {},
   "outputs": [],
   "source": [
    "# get max for overall data frame\n",
    "subset.max(axis = None)\n",
    "#None does it over all axes"
   ]
  },
  {
   "cell_type": "markdown",
   "id": "bd043cb4-6a31-4c88-8f4c-4c8e42a6c3a2",
   "metadata": {},
   "source": [
    "# filter data by criterion"
   ]
  },
  {
   "cell_type": "code",
   "execution_count": null,
   "id": "14ea5aa3-ba6d-4771-8931-ab4430ed9b9e",
   "metadata": {},
   "outputs": [],
   "source": [
    "subset"
   ]
  },
  {
   "cell_type": "code",
   "execution_count": null,
   "id": "e89c954b-fd43-4857-a9a4-08213f34acf5",
   "metadata": {},
   "outputs": [],
   "source": [
    "# get gdps greater than 10,000\n",
    "subset > 10000"
   ]
  },
  {
   "cell_type": "code",
   "execution_count": null,
   "id": "e323d13b-e163-49ef-b415-beb7ced3cad2",
   "metadata": {},
   "outputs": [],
   "source": [
    "# filter data frame by criterion\n",
    "df = subset[subset > 10000]\n",
    "df"
   ]
  },
  {
   "cell_type": "code",
   "execution_count": null,
   "id": "33de188d-36ee-4f0d-b138-658134b00c63",
   "metadata": {},
   "outputs": [],
   "source": [
    "# get everything above the median\n",
    "subset > subset.median(axis = None)"
   ]
  },
  {
   "cell_type": "code",
   "execution_count": null,
   "id": "997c5cc4-d405-4fb3-b9bf-7aa8a4a98d2a",
   "metadata": {},
   "outputs": [],
   "source": [
    "subset[subset > subset.median(axis = None)]"
   ]
  },
  {
   "cell_type": "code",
   "execution_count": null,
   "id": "4ceb14a9-703a-4827-bded-84d6e7f54e83",
   "metadata": {},
   "outputs": [],
   "source": [
    "df"
   ]
  },
  {
   "cell_type": "markdown",
   "id": "29300080-6c10-4e9d-988b-6788dd76d294",
   "metadata": {},
   "source": [
    "# working with missing data"
   ]
  },
  {
   "cell_type": "code",
   "execution_count": null,
   "id": "5509aca2-5854-4147-8a9c-7f67baa5fc0f",
   "metadata": {},
   "outputs": [],
   "source": [
    "# missing data is ignored by default in pandas\n",
    "print(\"column means\")\n",
    "print(df.mean())\n",
    "print(\"row means\")\n",
    "print(df.mean(axis = 1))"
   ]
  },
  {
   "cell_type": "code",
   "execution_count": null,
   "id": "40662eb7-8ba7-46f2-a172-8c2b506be7c3",
   "metadata": {},
   "outputs": [],
   "source": [
    "# check for missing values\n",
    "df.isna()"
   ]
  },
  {
   "cell_type": "code",
   "execution_count": null,
   "id": "84992540-4997-4e35-8235-f1bc6b2a7b60",
   "metadata": {},
   "outputs": [],
   "source": [
    "# count our missing values\n",
    "# missing by row\n",
    "df.isna().sum()"
   ]
  },
  {
   "cell_type": "code",
   "execution_count": null,
   "id": "dc7fcaa1-9eb0-4b66-bba4-ca2366a54716",
   "metadata": {},
   "outputs": [],
   "source": [
    "# check total missing values\n",
    "df.isna().sum().sum()"
   ]
  },
  {
   "cell_type": "code",
   "execution_count": null,
   "id": "5ce3fe31-66dd-43d9-be1b-16107ad5ee52",
   "metadata": {},
   "outputs": [],
   "source": [
    "# drop missing values\n",
    "df.dropna()"
   ]
  },
  {
   "cell_type": "code",
   "execution_count": null,
   "id": "4c85e5de-a6b7-41e7-89ba-6aaa7eb68d69",
   "metadata": {},
   "outputs": [],
   "source": [
    "# replace missing values with a fixed value\n",
    "df_fixed = df.fillna(99)\n",
    "print(df_fixed)"
   ]
  },
  {
   "cell_type": "code",
   "execution_count": null,
   "id": "b12452d2-8212-4ed5-9125-70320ea0403f",
   "metadata": {},
   "outputs": [],
   "source": [
    "# replace missing values with interpolated data\n",
    "df_interpolated = df.interpolate()\n",
    "print(df_interpolated)\n",
    "#super simple bad method"
   ]
  },
  {
   "cell_type": "markdown",
   "id": "c415a2c4-3088-4825-aa6a-828ec03440a2",
   "metadata": {},
   "source": [
    "# hard challenge: the perils of missing data\n",
    "\n",
    "1. create array of random numbers matching the \"data\" data frame\n",
    "random_filter = nm.random.rand(30, 12) * data.max(axis = None)\n",
    "\n",
    "2. create a new data frame that filters out all values lower than the random numbers\n",
    "\n",
    "3. interpolate new values for the missing data in the new data frame. how accurate are they?"
   ]
  },
  {
   "cell_type": "code",
   "execution_count": null,
   "id": "fd7b2976-333b-4478-a916-e758f15fcb7a",
   "metadata": {},
   "outputs": [],
   "source": [
    "random_filter = nm.random.rand(30, 12) * data.max(axis = None)"
   ]
  },
  {
   "cell_type": "code",
   "execution_count": null,
   "id": "8b00a8dd-2493-4b18-ac34-8020bbdd3b2d",
   "metadata": {},
   "outputs": [],
   "source": [
    "data_filter = data[data > random_filter]\n",
    "data_filter_interpolated = data_filter.interpolate()\n",
    "data_filter"
   ]
  },
  {
   "cell_type": "code",
   "execution_count": null,
   "id": "7f3e8869-af6f-44be-94c6-31692d51560a",
   "metadata": {},
   "outputs": [],
   "source": [
    "data_filter_interpolated"
   ]
  },
  {
   "cell_type": "code",
   "execution_count": null,
   "id": "f75c5d84-836f-45c9-aabd-9837dafbe53c",
   "metadata": {},
   "outputs": [],
   "source": [
    "data - data_filter_interpolated"
   ]
  },
  {
   "cell_type": "code",
   "execution_count": null,
   "id": "6cc017a9-7cde-4ac6-b9d2-ee96dd2a6b78",
   "metadata": {},
   "outputs": [],
   "source": [
    "data.describe()"
   ]
  },
  {
   "cell_type": "code",
   "execution_count": null,
   "id": "d6291b6d-fa36-4d4c-8471-2e3cb8f8a8da",
   "metadata": {},
   "outputs": [],
   "source": [
    "data_filter_interpolated.describe()"
   ]
  },
  {
   "cell_type": "markdown",
   "id": "530d73e2-a79d-4ae3-96af-dacc739a1834",
   "metadata": {},
   "source": [
    "# sorting and grouping data"
   ]
  },
  {
   "cell_type": "code",
   "execution_count": null,
   "id": "66a11d55-78cf-44b8-a922-1f21e009bfa2",
   "metadata": {},
   "outputs": [],
   "source": [
    "# z score all of the gdp data points\n",
    "z = (data - data.mean(axis = None))/data.values.std(ddof = 1)\n",
    "z"
   ]
  },
  {
   "cell_type": "code",
   "execution_count": null,
   "id": "1311e07b-7484-42a8-8f31-1193f77705c0",
   "metadata": {},
   "outputs": [],
   "source": [
    "# get mean z score for each country\n",
    "mean_z = z.mean(axis = 1)\n",
    "mean_z.sort_values()"
   ]
  },
  {
   "cell_type": "code",
   "execution_count": null,
   "id": "4e388c47-3d19-4e90-841b-0138025372f6",
   "metadata": {},
   "outputs": [],
   "source": [
    "#boolian is trues and falses\n",
    "bool_z = mean_z > 0\n",
    "bool_z"
   ]
  },
  {
   "cell_type": "code",
   "execution_count": null,
   "id": "5f9436f2-ed6d-44bc-b253-f5e1604edbbe",
   "metadata": {},
   "outputs": [],
   "source": [
    "# add columns to data frame\n",
    "data[\"mean_z\"] = mean_z\n",
    "data[\"wealthy\"] = bool_z\n",
    "data.head(3)"
   ]
  },
  {
   "cell_type": "code",
   "execution_count": null,
   "id": "017ac29a-a1b6-4ebc-b6b9-569f0a5ddc5e",
   "metadata": {},
   "outputs": [],
   "source": [
    "# get decsriptive statistics for groups\n",
    "data.groupby(\"wealthy\").mean()"
   ]
  },
  {
   "cell_type": "code",
   "execution_count": null,
   "id": "c6f6cdb6-73f5-4703-9a24-0461cddb27fe",
   "metadata": {},
   "outputs": [],
   "source": [
    "# get descriptive stats for each group\n",
    "data.groupby(\"wealthy\").describe()"
   ]
  },
  {
   "cell_type": "code",
   "execution_count": null,
   "id": "4a01459d-ab41-4e6f-9688-13e411f676f6",
   "metadata": {},
   "outputs": [],
   "source": [
    "# write output"
   ]
  },
  {
   "cell_type": "code",
   "execution_count": null,
   "id": "76b73375-a543-450a-a01c-185f02ced19a",
   "metadata": {},
   "outputs": [],
   "source": [
    "data.to_csv(\"europe_normed.csv\")"
   ]
  },
  {
   "cell_type": "markdown",
   "id": "a8424a5f-9d5d-41ff-962f-6844ccab3f6a",
   "metadata": {},
   "source": [
    "# looping over data sets"
   ]
  },
  {
   "cell_type": "code",
   "execution_count": null,
   "id": "94707577-32d9-44b8-9da1-4db4cf05371f",
   "metadata": {},
   "outputs": [],
   "source": [
    "import pandas as pd"
   ]
  },
  {
   "cell_type": "code",
   "execution_count": null,
   "id": "d819bcac-d766-4e7a-b355-ee34dfd06a04",
   "metadata": {},
   "outputs": [],
   "source": [
    "# import the data from files in a list, file_list is name of list\n",
    "file_list = [\"gapminder_gdp_africa.csv\", \"gapminder_gdp_asia.csv\"]\n",
    "for filename in file_list:\n",
    "    data = pd.read_csv(filename, index_col = \"country\")\n",
    "    print(filename)\n",
    "    print(data.head(1))"
   ]
  },
  {
   "cell_type": "code",
   "execution_count": null,
   "id": "84f1f90c-cee5-420f-a3b5-2c91a60b8dde",
   "metadata": {},
   "outputs": [],
   "source": [
    "# automatically get a list of files, glob = global uility for pattern matching\n",
    "import glob"
   ]
  },
  {
   "cell_type": "code",
   "execution_count": null,
   "id": "55ef7cd7-93cf-425d-9463-76911032244f",
   "metadata": {},
   "outputs": [],
   "source": [
    "# get all csv files, * is anything before csv (some amount of characters we don't care how many)\n",
    "glob.glob(\"*.csv\")"
   ]
  },
  {
   "cell_type": "code",
   "execution_count": null,
   "id": "0e697150-8f99-49b7-b6ad-00aeb79c84cd",
   "metadata": {},
   "outputs": [],
   "source": [
    "# get all csv or tsv files, ? is any letter\n",
    "glob.glob(\"*.?sv\")"
   ]
  },
  {
   "cell_type": "code",
   "execution_count": null,
   "id": "c006c617-813a-41ea-a5e9-4ce2a058d6ab",
   "metadata": {},
   "outputs": [],
   "source": [
    "# get a list of all continents\n",
    "glob.glob(\"gapminder_gdp_*.csv\")"
   ]
  },
  {
   "cell_type": "code",
   "execution_count": null,
   "id": "292d8a96-60e6-48c2-b879-10631d8d3298",
   "metadata": {},
   "outputs": [],
   "source": [
    "# get continent level data and aggregate into 1 data frame\n",
    "data_frames = []\n",
    "for filename in glob.glob(\"gapminder_gdp_*.csv\"):\n",
    "    print(filename)\n",
    "    data = pd.read_csv(filename, index_col = \"country\")\n",
    "    data_frames.append(data)\n",
    "# concatenate data frames\n",
    "all_data = pd.concat(data_frames)"
   ]
  },
  {
   "cell_type": "code",
   "execution_count": null,
   "id": "f1f8e9e6-0bbe-4656-8506-6947d1d14606",
   "metadata": {},
   "outputs": [],
   "source": [
    "# inspect out results\n",
    "print(all_data.shape)\n",
    "print(all_data.index)"
   ]
  },
  {
   "cell_type": "markdown",
   "id": "2346128c-fa1e-42ed-91e5-87ff04f37f24",
   "metadata": {
    "editable": true,
    "slideshow": {
     "slide_type": ""
    },
    "tags": []
   },
   "source": [
    "# conditionals"
   ]
  },
  {
   "cell_type": "code",
   "execution_count": null,
   "id": "969f4007-ec62-4c56-bfd1-6ec10fc02088",
   "metadata": {},
   "outputs": [],
   "source": [
    "# does a file end in \"all.csv\"?\n",
    "for filename in glob.glob(\"gapminder*.csv\"):\n",
    "    print(\"current file:\", filename)\n",
    "    print(filename.endswith(\"all.csv\"))"
   ]
  },
  {
   "cell_type": "code",
   "execution_count": null,
   "id": "9dd4c775-f3cd-41f0-8b5d-8b9226d1f15c",
   "metadata": {},
   "outputs": [],
   "source": [
    "# get a truth value of a statement\n",
    "mass = 3\n",
    "# == tests for equality\n",
    "print(mass == 3)\n",
    "print(mass > 5)\n",
    "print(mass < 4)"
   ]
  },
  {
   "cell_type": "code",
   "execution_count": null,
   "id": "4f65aeef-e73a-4b8f-bef5-c115dc5b9963",
   "metadata": {},
   "outputs": [],
   "source": [
    "# test for membership in a collection\n",
    "primes = [2, 3, 5]\n",
    "print(2 in primes)\n",
    "print(7 in primes)"
   ]
  },
  {
   "cell_type": "code",
   "execution_count": null,
   "id": "6be312e9-35a1-4d1b-87be-a5f6b4b0e262",
   "metadata": {},
   "outputs": [],
   "source": [
    "# testing for missing values, re doing data frame with missing stuff\n",
    "data = pd.read_csv(\"europe_normed.csv\", index_col = \"country\")\n",
    "subset = data.loc[\"Italy\":\"Poland\", \"1962\":\"1972\"]\n",
    "df = subset[subset > 10000]\n",
    "df"
   ]
  },
  {
   "cell_type": "code",
   "execution_count": null,
   "id": "5407ba5c-810c-4719-8134-2c3332142c5c",
   "metadata": {},
   "outputs": [],
   "source": [
    "# which values are missing?\n",
    "df.isna()"
   ]
  },
  {
   "cell_type": "code",
   "execution_count": null,
   "id": "bf1f1892-bb86-4a6b-8d21-e989ab94fc3d",
   "metadata": {},
   "outputs": [],
   "source": [
    "# are any values missing?\n",
    "df.isna().any(axis = None)"
   ]
  },
  {
   "cell_type": "code",
   "execution_count": null,
   "id": "020dfacc-edf6-4a8f-bc18-319fc4539895",
   "metadata": {},
   "outputs": [],
   "source": [
    "# make choices with if/then statements\n",
    "mass = 3.5\n",
    "if mass > 3.0:\n",
    "    print(mass, \"is large\")"
   ]
  },
  {
   "cell_type": "code",
   "execution_count": null,
   "id": "13241370-f799-461b-91a3-9dea7ac4a63f",
   "metadata": {},
   "outputs": [],
   "source": [
    "# test for files ending in \"all.csv\"\n",
    "data_frames = []\n",
    "for filename in glob.glob(\"gapminder*.csv\"):\n",
    "    print(filename)\n",
    "    if not filename.endswith(\"all.csv\"):\n",
    "        print(\"passes test:\", filename)\n",
    "        data = pd.read_csv(filename, index_col = \"country\")\n",
    "        data_frames.append(data)\n",
    "all_data = pd.concat(data_frames)\n",
    "print(all_data.shape)"
   ]
  },
  {
   "cell_type": "code",
   "execution_count": null,
   "id": "edc89c03-1330-4dfa-b668-4c3334842d88",
   "metadata": {},
   "outputs": [],
   "source": [
    "# add an else condition\n",
    "mass = 2.0\n",
    "if mass > 3.0:\n",
    "    print(mass, \"is large\")\n",
    "else: \n",
    "    print(mass, \"is small\")"
   ]
  },
  {
   "cell_type": "code",
   "execution_count": null,
   "id": "4aae0e63-1778-4348-b817-d3dd9d5c47d6",
   "metadata": {},
   "outputs": [],
   "source": [
    "data_frames = []\n",
    "for filename in glob.glob(\"gapminder*.csv\"):\n",
    "    if filename.endswith(\"all.csv\"):\n",
    "        print(\"i don't want any of that\", filename)\n",
    "    else:\n",
    "        print(\"passes test:\", filename)\n",
    "        data = pd.read_csv(filename, index_col = \"country\")\n",
    "        data_frames.append(data)\n",
    "all_data = pd.concat(data_frames)\n",
    "print(all_data.shape)"
   ]
  },
  {
   "cell_type": "markdown",
   "id": "fb6eaa18-9969-4b00-977c-04081b29be97",
   "metadata": {},
   "source": [
    "# challenge 1\n",
    "\n",
    "1. iterate through all the csv files in the directory\n",
    "\n",
    "2. print the name and length (number of rows) of any file less than 30 rows long"
   ]
  },
  {
   "cell_type": "code",
   "execution_count": null,
   "id": "921cdd77-38b5-4742-82cb-2e766a88afc7",
   "metadata": {},
   "outputs": [],
   "source": [
    "#all files is \"*.*\"\n",
    "data_frames = []\n",
    "for filename in glob.glob(\"*.csv\"):\n",
    "    #reads files\n",
    "    data = pd.read_csv(filename)\n",
    "    #[row, columns] so [0]is just rows\n",
    "    if data.shape[0] < 30:\n",
    "        print(\"this bitch:\", filename)\n",
    "        print(filename, data.shape[0])"
   ]
  },
  {
   "cell_type": "markdown",
   "id": "31e93599-23c8-4967-8f50-8ec92f589f9d",
   "metadata": {},
   "source": [
    "# challenege 2\n",
    "\n",
    "1. iterate throuigh all csv files in the directory\n",
    "\n",
    "2. print any file that includes \"europe\", then print the column names for that file"
   ]
  },
  {
   "cell_type": "code",
   "execution_count": null,
   "id": "9e7562d0-2678-40a4-9a9e-b5dff93aca4c",
   "metadata": {},
   "outputs": [],
   "source": [
    "for filename in glob.glob(\"*.csv\"):\n",
    "   # a string is kinda like a list, .lower() makes everything lowercase when it looks at the file names\n",
    "    if \"europe\" in filename.lower():\n",
    "        print(filename)\n",
    "        data = pd.read_csv(filename)\n",
    "        print(data.columns)"
   ]
  },
  {
   "cell_type": "code",
   "execution_count": null,
   "id": "4e561622-2717-48c4-b993-0baf769d3f2c",
   "metadata": {},
   "outputs": [],
   "source": [
    "# you can specify additional tests with elif (else if)\n",
    "mass = 3.5\n",
    "if mass > 9.0:\n",
    "    print(mass, \"is huge\")\n",
    "elif mass > 3.0:\n",
    "    print(mass, \"is large\")\n",
    "else:\n",
    "    print(mass, \"is small\")"
   ]
  },
  {
   "cell_type": "code",
   "execution_count": null,
   "id": "54ea6955-b5ea-4d5c-946d-2c50e79bd6f0",
   "metadata": {},
   "outputs": [],
   "source": [
    "# you can do more complicated tests\n",
    "mass = [1, 2, 3, 4, 5]\n",
    "velocity = [5, 4, 3, 2, 5]\n",
    "# get each pair of measurements\n",
    "for m, v in zip(mass, velocity):\n",
    "    if m <= 3 and v <=3:\n",
    "        print(\"small and slow:\", m, v)\n",
    "    elif m <= 3 and v > 3:\n",
    "        print(\"small and fast\", m, v)\n",
    "    elif m > 3 and v <= 3:\n",
    "        print(\"large and slow\", m, v)\n",
    "    else:\n",
    "        print(\"check data\", m, v)"
   ]
  },
  {
   "cell_type": "markdown",
   "id": "d8a4f070-d979-4b7b-acdc-9a5b63611509",
   "metadata": {},
   "source": [
    "# functions"
   ]
  },
  {
   "cell_type": "code",
   "execution_count": null,
   "id": "46477950-8ffa-43cb-b310-4156fe3ebdb4",
   "metadata": {},
   "outputs": [],
   "source": [
    "# def = define\n",
    "def print_greeting():\n",
    "    print(\"hello\")"
   ]
  },
  {
   "cell_type": "code",
   "execution_count": null,
   "id": "4056ccdb-efd8-490c-a30c-4fc3ab1f38f2",
   "metadata": {},
   "outputs": [],
   "source": [
    "print_greeting()"
   ]
  },
  {
   "cell_type": "code",
   "execution_count": null,
   "id": "92b97888-6124-4455-b8ad-1d5c5d0ddff5",
   "metadata": {},
   "outputs": [],
   "source": [
    "# functions take arguements\n",
    "def print_date(year, month, day):\n",
    "    #.join only works on strings so str() turns it into string\n",
    "    joined_date = \"/\".join([str(year), str(month), str(day)])\n",
    "    print(joined_date)"
   ]
  },
  {
   "cell_type": "code",
   "execution_count": null,
   "id": "66671bbc-2f12-460d-84e7-249b3ccf1bc8",
   "metadata": {},
   "outputs": [],
   "source": [
    "print_date(2024, 7, 12)"
   ]
  },
  {
   "cell_type": "code",
   "execution_count": null,
   "id": "e09987f4-6328-4cd2-8bb2-27f6df51b885",
   "metadata": {},
   "outputs": [],
   "source": [
    "# test your data inside your function\n",
    "def average(values):\n",
    "    \"\"\"return average of values, or None if no values are supplied.\"\"\"\n",
    "    if len(values) == 0:\n",
    "        return None\n",
    "    else:\n",
    "        return sum(values) / len(values)"
   ]
  },
  {
   "cell_type": "code",
   "execution_count": null,
   "id": "289806e0-f056-43a4-a5b9-d3714f6106a4",
   "metadata": {},
   "outputs": [],
   "source": [
    "a1 = average([1, 2, 3])\n",
    "print(a1)"
   ]
  },
  {
   "cell_type": "code",
   "execution_count": null,
   "id": "050adb63-c90f-4c4f-90da-41717d408ab9",
   "metadata": {},
   "outputs": [],
   "source": [
    "a2 = average([])\n",
    "print(a2)"
   ]
  },
  {
   "cell_type": "code",
   "execution_count": null,
   "id": "6c726ef8-7c10-4e6a-8db6-b890018fa549",
   "metadata": {},
   "outputs": [],
   "source": [
    "#a3 = average(3)\n",
    "#print(a3)"
   ]
  },
  {
   "cell_type": "markdown",
   "id": "fef6edeb-5ebb-4224-af0e-e8b04b57a1a7",
   "metadata": {},
   "source": [
    "# challenge\n",
    "\n",
    "write a function that encapsulates the z score calculation. your function should do the following:\n",
    "\n",
    "1. read a csv files into a dataframe\n",
    "\n",
    "2. calculate z score for each item\n",
    "\n",
    "3. canculate mean z score for each country\n",
    "\n",
    "4. append mean z score as a new column\n",
    "\n",
    "5. return data frame"
   ]
  },
  {
   "cell_type": "code",
   "execution_count": null,
   "id": "70251cc8-7da2-4ce7-8486-f51750f8f1b3",
   "metadata": {},
   "outputs": [],
   "source": [
    "def norm_data(filename, index_col = None):\n",
    "    \"\"\"add a z score to a data frame\"\"\"\n",
    "   #import data\n",
    "    data = pd.read_csv(filename, index_col = index_col)\n",
    "    #drop continent column if necessary. this returns a new data frame\n",
    "    if \"continent\" in data.columns:\n",
    "        #both works\n",
    "        data = data.drop(\"continent\", axis = 1)\n",
    "        #data = data.iloc[:, 1:]\n",
    "    # calculate individual z scores\n",
    "    z = (data - data.values.mean()) / data.values.std()\n",
    "    # mean z score for each country\n",
    "    mean_z = z.mean(axis = 1)\n",
    "    #add new column to data frame\n",
    "    data[\"mean_z\"] = mean_z\n",
    "    return data"
   ]
  },
  {
   "cell_type": "code",
   "execution_count": null,
   "id": "bb98ff40-d877-4f9c-940f-e1fe009cd8ee",
   "metadata": {
    "editable": true,
    "slideshow": {
     "slide_type": ""
    },
    "tags": []
   },
   "outputs": [],
   "source": [
    "df = norm_data(\"gapminder_gdp_americas.csv\", index_col = \"country\")\n",
    "df"
   ]
  },
  {
   "cell_type": "markdown",
   "id": "8ecbf9e1-dc4d-4b0d-949c-9f8cb1f3add1",
   "metadata": {
    "editable": true,
    "slideshow": {
     "slide_type": ""
    },
    "tags": []
   },
   "source": [
    "# putting it all together"
   ]
  },
  {
   "cell_type": "code",
   "execution_count": null,
   "id": "14786b91-073e-4a3a-88e7-e74c44dd4067",
   "metadata": {},
   "outputs": [],
   "source": [
    "# get all the files we care about and get z scores by continent\n",
    "data_frames = []\n",
    "for filename in glob.glob(\"gapminder*.csv\"):\n",
    "    if not filename.endswith(\"all.csv\"):\n",
    "        df = norm_data(filename, index_col = \"country\")\n",
    "        data_frames.append(df)\n",
    "all_data = pd.concat(data_frames)\n",
    "print(all_data.shape)\n",
    "print(all_data.columns)"
   ]
  },
  {
   "cell_type": "code",
   "execution_count": null,
   "id": "7f5adc49-5323-4c0e-bcf8-3c56dcebb7ca",
   "metadata": {
    "editable": true,
    "slideshow": {
     "slide_type": ""
    },
    "tags": []
   },
   "outputs": [],
   "source": []
  }
 ],
 "metadata": {
  "kernelspec": {
   "display_name": "Python 3 (ipykernel)",
   "language": "python",
   "name": "python3"
  },
  "language_info": {
   "codemirror_mode": {
    "name": "ipython",
    "version": 3
   },
   "file_extension": ".py",
   "mimetype": "text/x-python",
   "name": "python",
   "nbconvert_exporter": "python",
   "pygments_lexer": "ipython3",
   "version": "3.12.4"
  }
 },
 "nbformat": 4,
 "nbformat_minor": 5
}
