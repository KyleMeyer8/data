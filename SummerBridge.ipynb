{
 "cells": [
  {
   "cell_type": "code",
   "execution_count": null,
   "id": "2d1ee93c-9848-4e00-8962-b92c39fe9e51",
   "metadata": {},
   "outputs": [],
   "source": [
    "3 + 7"
   ]
  },
  {
   "cell_type": "code",
   "execution_count": null,
   "id": "afd25ec8-2452-4e94-84e8-d4dda157b132",
   "metadata": {},
   "outputs": [],
   "source": [
    "print(\"hello\")"
   ]
  },
  {
   "cell_type": "code",
   "execution_count": null,
   "id": "6d825502-39c9-4bd5-94bb-e8c234206692",
   "metadata": {},
   "outputs": [],
   "source": [
    "print(7)"
   ]
  },
  {
   "cell_type": "code",
   "execution_count": null,
   "id": "89b48fd6-aeed-48a0-92ab-f06977b5423e",
   "metadata": {},
   "outputs": [],
   "source": [
    "name = \"Kyle\"\n",
    "age = 42"
   ]
  },
  {
   "cell_type": "code",
   "execution_count": null,
   "id": "2d1ac437-db65-40ef-92c4-7033ceaae96a",
   "metadata": {},
   "outputs": [],
   "source": [
    "print(age)"
   ]
  },
  {
   "cell_type": "code",
   "execution_count": null,
   "id": "abd5e90f-f5c8-4a71-a8d5-542d2351db14",
   "metadata": {},
   "outputs": [],
   "source": [
    "# this is a comment. it won't run. use lots of comments\n",
    "# you can echo values without using print in this notebook\n",
    "name"
   ]
  },
  {
   "cell_type": "markdown",
   "id": "7b5f6f86-e7ef-4519-9076-f30173cf00ac",
   "metadata": {},
   "source": [
    "# Variables and Values"
   ]
  },
  {
   "cell_type": "code",
   "execution_count": null,
   "id": "7e0ebdba-81f6-4deb-a57b-5cbba275759b",
   "metadata": {},
   "outputs": [],
   "source": [
    "#variables can be used in calculations\n",
    "print(age)\n",
    "age = age + 3\n",
    "print(age)"
   ]
  },
  {
   "cell_type": "code",
   "execution_count": null,
   "id": "2a5adfec-aa45-4d06-be61-6b0cfe41e54c",
   "metadata": {},
   "outputs": [],
   "source": [
    "# order fo operations matters\n",
    "first = 1\n",
    "second = first * 5\n",
    "first = 2\n",
    "print (first)\n",
    "print(second)"
   ]
  },
  {
   "cell_type": "code",
   "execution_count": null,
   "id": "7e534010-5579-4578-96b8-e9141f5dcd81",
   "metadata": {},
   "outputs": [],
   "source": [
    "# values have types. types effect what you can do with them\n",
    "print(5-3)\n",
    "#print(\"hello\" - \"h\")"
   ]
  },
  {
   "cell_type": "code",
   "execution_count": null,
   "id": "f14d56f8-71ca-41b1-bf28-0561b5b975a5",
   "metadata": {},
   "outputs": [],
   "source": [
    "print(len(\"hello\"))\n",
    "#print(len(6))"
   ]
  },
  {
   "cell_type": "markdown",
   "id": "8b420b8c-ff4a-414b-8aed-e1ebdfc62001",
   "metadata": {},
   "source": [
    "## challenge\n",
    "explain what each operator does\n",
    "\n",
    "print(5 // 3)\n",
    "print(5 / 3)\n",
    "print(5 % 3)"
   ]
  },
  {
   "cell_type": "code",
   "execution_count": null,
   "id": "b34f4664-e7a9-47b8-8836-0642d5babf08",
   "metadata": {},
   "outputs": [],
   "source": [
    "print(5 // 3)\n",
    "# how many times 3 goes into 5. floor operator. main divisor"
   ]
  },
  {
   "cell_type": "code",
   "execution_count": null,
   "id": "70088368-d8d4-4d9c-8f07-c29da20635db",
   "metadata": {},
   "outputs": [],
   "source": [
    "print(5 / 3)\n",
    "# just division"
   ]
  },
  {
   "cell_type": "code",
   "execution_count": null,
   "id": "ebc0f3e8-8e91-4829-92a6-c28eb168e04a",
   "metadata": {},
   "outputs": [],
   "source": [
    "print(5 % 3)\n",
    "# remainder after 3 goes into 5. complement of first one. \"weirdly useful\" if trying to count things"
   ]
  },
  {
   "cell_type": "markdown",
   "id": "435c2a0c-3e33-43c3-9fe5-728f5dc8598d",
   "metadata": {},
   "source": [
    "# getting help"
   ]
  },
  {
   "cell_type": "code",
   "execution_count": null,
   "id": "ce6789a8-1867-46d1-a8f0-769d7f51c715",
   "metadata": {},
   "outputs": [],
   "source": [
    "# rounding numbers is built in\n",
    "round(3.14159)"
   ]
  },
  {
   "cell_type": "code",
   "execution_count": null,
   "id": "3d10b791-ae60-47cf-8ef6-11b1582ba439",
   "metadata": {},
   "outputs": [],
   "source": [
    "round(3.14159, 2)"
   ]
  },
  {
   "cell_type": "code",
   "execution_count": null,
   "id": "a546ced0-fd98-4943-b22c-73aac36e2ba5",
   "metadata": {},
   "outputs": [],
   "source": [
    "help(round)"
   ]
  },
  {
   "cell_type": "code",
   "execution_count": null,
   "id": "562aefc8-66fe-4bbf-a70d-73c78242ef0c",
   "metadata": {},
   "outputs": [],
   "source": [
    "# ndigits=none means optional, default is 0 if left blank\n",
    "round(3.14159,ndigits=2)\n",
    "# same exact thing"
   ]
  },
  {
   "cell_type": "code",
   "execution_count": null,
   "id": "eccd1cd7-5dfc-494d-8da2-337321c8816e",
   "metadata": {},
   "outputs": [],
   "source": [
    "# all functions return a new value\n",
    "rounded_pi = round(3.14159, 2)\n",
    "print(rounded_pi)"
   ]
  },
  {
   "cell_type": "markdown",
   "id": "cce0f0f3-111d-4911-8022-5beb77714e6e",
   "metadata": {},
   "source": [
    "## challenge\n",
    "\n",
    "what order do the operations happen?\n",
    "\n",
    "radiance = 1.0\n",
    "\n",
    "radiance = max(2.1, 2.0 + min(radiance, 1.1 * radiance - 0.5)"
   ]
  },
  {
   "cell_type": "code",
   "execution_count": null,
   "id": "4143e043-2015-4487-866d-c15e3f279750",
   "metadata": {},
   "outputs": [],
   "source": [
    "help(max)\n",
    "help(min)"
   ]
  },
  {
   "cell_type": "code",
   "execution_count": null,
   "id": "a0848d83-dd8a-4b9b-b879-501210a4e062",
   "metadata": {},
   "outputs": [],
   "source": [
    "radiance = 1.0\n",
    "radiance = max(2.1, 2.0 + min(radiance, 1.1 * radiance - 0.5))\n",
    "print(radiance)"
   ]
  },
  {
   "cell_type": "code",
   "execution_count": null,
   "id": "e3061095-95dd-4eba-8288-fd86fc2c2dd0",
   "metadata": {},
   "outputs": [],
   "source": [
    "# break down these operations\n",
    "radiance = 1.0\n",
    "min_arg_2 = 1.1 * radiance - 0.5\n",
    "print(\"min arg 2:\", min_arg_2)\n",
    "min_result = min(radiance, min_arg_2)\n",
    "print(\"min result:\", min_result)\n",
    "radiance = max(2.1, 2.0 + min_result)\n",
    "print(\"radiance:\", radiance)"
   ]
  },
  {
   "cell_type": "markdown",
   "id": "3d7bce1e-345b-4a61-9e34-fc0ded9bca1f",
   "metadata": {},
   "source": [
    "# A brief interlude with git"
   ]
  },
  {
   "cell_type": "markdown",
   "id": "dc2fa9ca-b1b8-4860-8770-493e54ec2e48",
   "metadata": {},
   "source": [
    "# libraries"
   ]
  },
  {
   "cell_type": "code",
   "execution_count": null,
   "id": "d20954d4-ebed-4b5e-bc14-6427dbd533d4",
   "metadata": {},
   "outputs": [],
   "source": [
    "import math\n",
    "#math is a library"
   ]
  },
  {
   "cell_type": "code",
   "execution_count": null,
   "id": "b7ba5d85-ede7-4584-90b9-dd5a3fe2c652",
   "metadata": {},
   "outputs": [],
   "source": [
    "math.pi"
   ]
  },
  {
   "cell_type": "code",
   "execution_count": null,
   "id": "95396fb3-9d04-4723-8730-2554975500ec",
   "metadata": {},
   "outputs": [],
   "source": [
    "print(math.pi)\n",
    "print(math.cos(math.pi))"
   ]
  },
  {
   "cell_type": "code",
   "execution_count": null,
   "id": "802a2426-e7fd-411e-8f19-52926b7fb39a",
   "metadata": {},
   "outputs": [],
   "source": [
    "# get complete help with help()\n",
    "# get list of options with dir()\n",
    "#help(math)\n",
    "print(dir(math))"
   ]
  },
  {
   "cell_type": "code",
   "execution_count": null,
   "id": "58bc783d-8cb7-4648-a6b3-4ac30e247b9c",
   "metadata": {},
   "outputs": [],
   "source": [
    "#docs.python.org is exhaustive"
   ]
  },
  {
   "cell_type": "markdown",
   "id": "8e5131d9-143d-48e2-a184-0550b2944f7d",
   "metadata": {},
   "source": [
    "# list"
   ]
  },
  {
   "cell_type": "code",
   "execution_count": null,
   "id": "eea7d533-4f47-4a69-8fef-09ec8c3f269b",
   "metadata": {},
   "outputs": [],
   "source": [
    "# a list is and ordered collection of stuff, use square brackets with lists\n",
    "fruit = [\"apple\", \"banana\", \"cherry\", \"date\", \"elderberry\", \"fig\"]"
   ]
  },
  {
   "cell_type": "code",
   "execution_count": null,
   "id": "d73bc9ef-fa0a-4b6b-82c8-77c772523830",
   "metadata": {},
   "outputs": [],
   "source": [
    "fruit"
   ]
  },
  {
   "cell_type": "code",
   "execution_count": null,
   "id": "5ac20eda-791f-4fa3-98a9-78a58fb1748e",
   "metadata": {},
   "outputs": [],
   "source": [
    "len(fruit)"
   ]
  },
  {
   "cell_type": "code",
   "execution_count": null,
   "id": "a7290360-b1b7-42df-a49a-3b67851d1744",
   "metadata": {},
   "outputs": [],
   "source": [
    "# lists are indexed by position counting from 0\n",
    "# first item\n",
    "print(fruit[0])\n",
    "\n",
    "#fifth item\n",
    "print(fruit[4])"
   ]
  },
  {
   "cell_type": "code",
   "execution_count": null,
   "id": "bd89416f-9d10-4023-97cd-214d412a1027",
   "metadata": {},
   "outputs": [],
   "source": [
    "# get subsets by slicing list\n",
    "# get first 3 items\n",
    "fruit[0:3]\n",
    "# up to but not including 4th item"
   ]
  },
  {
   "cell_type": "code",
   "execution_count": null,
   "id": "e62eb5a2-6c9a-48a5-ad69-93127e8402bc",
   "metadata": {},
   "outputs": [],
   "source": [
    "fruit[2:5]\n",
    "# 3 up to but not including 6th"
   ]
  },
  {
   "cell_type": "code",
   "execution_count": null,
   "id": "ef99f3d7-3edf-4c5b-b0c1-24a0bff4abad",
   "metadata": {},
   "outputs": [],
   "source": [
    "#get items by step\n",
    "#get first 5 items, every other item\n",
    "fruit[0:5:2]"
   ]
  },
  {
   "cell_type": "code",
   "execution_count": null,
   "id": "4c538ebf-150b-4a3d-9a9f-9c7d9a76d7c0",
   "metadata": {},
   "outputs": [],
   "source": [
    "fruit[0:5:3]"
   ]
  },
  {
   "cell_type": "code",
   "execution_count": null,
   "id": "b34a128b-d272-46cd-b2d8-6f3ec7c900f2",
   "metadata": {},
   "outputs": [],
   "source": [
    "fruit[0:100]"
   ]
  },
  {
   "cell_type": "markdown",
   "id": "1acc2261-7021-4317-879d-c3150b55dce7",
   "metadata": {},
   "source": [
    "# challenge\n",
    "what are the following statements doing?\n",
    "\n",
    "fruit[-1]\n",
    "\n",
    "fruit[20]\n",
    "\n",
    "fruit[-3:]"
   ]
  },
  {
   "cell_type": "code",
   "execution_count": null,
   "id": "ce48446c-fe94-40e6-815b-d2005ba289ab",
   "metadata": {},
   "outputs": [],
   "source": [
    "fruit[-1]"
   ]
  },
  {
   "cell_type": "code",
   "execution_count": null,
   "id": "c47f9c6c-1113-4e3d-93e4-cda3d7edeb21",
   "metadata": {},
   "outputs": [],
   "source": [
    "#fruit[20]"
   ]
  },
  {
   "cell_type": "code",
   "execution_count": null,
   "id": "d19dd1ce-8b1c-4f76-b8b4-6aa4af245f26",
   "metadata": {},
   "outputs": [],
   "source": [
    "fruit[-3:]"
   ]
  },
  {
   "cell_type": "code",
   "execution_count": null,
   "id": "05659a41-0b20-4b19-be30-9e0c961bd4a7",
   "metadata": {},
   "outputs": [],
   "source": [
    "fruit[-3]"
   ]
  },
  {
   "cell_type": "code",
   "execution_count": null,
   "id": "7401a434-b24c-452d-9ceb-2eb5129cce00",
   "metadata": {},
   "outputs": [],
   "source": [
    "# why are fruit indexed this way?\n",
    "print(fruit[:2])\n",
    "print(fruit[2:])\n",
    "print(len(fruit[1:3]))"
   ]
  },
  {
   "cell_type": "markdown",
   "id": "eb3a8489-175e-40b3-8975-2fe43ebcf0dc",
   "metadata": {},
   "source": [
    "## adding stuff to lists"
   ]
  },
  {
   "cell_type": "code",
   "execution_count": null,
   "id": "ea4b7a5b-5209-47d4-a1c0-f33ccc6a347c",
   "metadata": {},
   "outputs": [],
   "source": [
    "#update a specific list\n",
    "print(fruit)\n",
    "fruit[0] = \"apricot\"\n",
    "print(fruit)"
   ]
  },
  {
   "cell_type": "code",
   "execution_count": null,
   "id": "f54689eb-7fd4-47b1-9495-6fff9b9b7e95",
   "metadata": {},
   "outputs": [],
   "source": [
    "# add new items to list\n",
    "fruit.append(\"grape\")\n",
    "print(fruit)"
   ]
  },
  {
   "cell_type": "code",
   "execution_count": null,
   "id": "b478e2d0-ef21-49f5-b7ca-84dd519c2778",
   "metadata": {},
   "outputs": [],
   "source": [
    "# add items from 2nd list to 1st list\n",
    "more_fruit = [\"honeydew\", \"imbe\", \"jackfruit\"]\n",
    "fruit.extend(more_fruit)\n",
    "print(fruit)\n",
    "print(more_fruit)"
   ]
  },
  {
   "cell_type": "code",
   "execution_count": null,
   "id": "78b0b9ba-9466-4969-bb87-eac2756fea46",
   "metadata": {},
   "outputs": [],
   "source": [
    "# many funcitons operate on collections\n",
    "# assessing our wide receiving corp\n",
    "receiving_yards = [450, 370, 870, 150]\n",
    "mean_yards = sum(receiving_yards)/len(receiving_yards)\n",
    "print(mean_yards)"
   ]
  },
  {
   "cell_type": "markdown",
   "id": "d262854d-0fa1-40ac-9307-079f988fedc5",
   "metadata": {},
   "source": [
    "# for loops"
   ]
  },
  {
   "cell_type": "code",
   "execution_count": null,
   "id": "aaad3b1b-390d-4984-855d-25dab585530c",
   "metadata": {},
   "outputs": [],
   "source": [
    "for fruip in fruit:\n",
    "    print(fruip)"
   ]
  },
  {
   "cell_type": "code",
   "execution_count": null,
   "id": "ca93d650-4f3b-4b64-9712-ed9dee1f1957",
   "metadata": {},
   "outputs": [],
   "source": [
    "for bob in fruit:\n",
    "    print(bob)\n",
    "#bob is temp variable"
   ]
  },
  {
   "cell_type": "code",
   "execution_count": null,
   "id": "1788193a-23d3-4b35-9996-9140f11ff35c",
   "metadata": {},
   "outputs": [],
   "source": [
    "# code blocks can contain many statements\n",
    "primes = [2, 3, 5]\n",
    "for p in primes:\n",
    "    squared = p ** 2\n",
    "    cubed = p ** 3\n",
    "    print(p, squared, cubed)\n",
    "# ** is to power of"
   ]
  },
  {
   "cell_type": "code",
   "execution_count": null,
   "id": "a95a76fe-0fa8-4928-8695-d89621d2ef5b",
   "metadata": {},
   "outputs": [],
   "source": [
    "# create a new collection from an existing collection\n",
    "primes_squared = []\n",
    "for p in primes:\n",
    "    primes_squared.append(p ** 2)\n",
    "print(primes_squared)"
   ]
  },
  {
   "cell_type": "markdown",
   "id": "52c344a6-97e3-41f7-abd9-dd8d38e1da9f",
   "metadata": {},
   "source": [
    "# challenge\n",
    "\n",
    "get the total length of all the items in the fruits list"
   ]
  },
  {
   "cell_type": "code",
   "execution_count": null,
   "id": "02e49acd-3978-465a-a991-91dfb425be64",
   "metadata": {},
   "outputs": [],
   "source": [
    "fruit_length = []\n",
    "for bob in fruit:\n",
    "    fruit_length.append(len(bob))\n",
    "    \n",
    "print(fruit_length)\n",
    "print(sum(fruit_length))"
   ]
  },
  {
   "cell_type": "code",
   "execution_count": null,
   "id": "3c9a55ae-577c-4ee3-8cb0-39fab691e5ff",
   "metadata": {},
   "outputs": [],
   "source": [
    "# solutions\n",
    "fruit_length2 = []\n",
    "for bob in fruit:\n",
    "    fruit_length2.append(len(bob))\n",
    "\n",
    "print(fruit_length2)\n",
    "print(sum(fruit_length2))"
   ]
  },
  {
   "cell_type": "code",
   "execution_count": null,
   "id": "2b759a32-16af-4f26-ac32-e8c022211500",
   "metadata": {},
   "outputs": [],
   "source": [
    "# sol 2\n",
    "count = 0\n",
    "for bob in fruit:\n",
    "    count = count+len(bob)\n",
    "    print(count)\n",
    "print(\"final count\", count)"
   ]
  },
  {
   "cell_type": "code",
   "execution_count": null,
   "id": "76083025-1b98-40f5-a322-a2d11885bf16",
   "metadata": {},
   "outputs": [],
   "source": [
    "# generator comprehension\n",
    "sum(len(bob) for bob in fruit)"
   ]
  },
  {
   "cell_type": "code",
   "execution_count": null,
   "id": "e51b5f33-6af8-4e0e-81fc-29be71174ea9",
   "metadata": {},
   "outputs": [],
   "source": [
    "len(\"\".join(fruit))"
   ]
  },
  {
   "cell_type": "code",
   "execution_count": null,
   "id": "7d3593a0-4b78-4d25-a471-0b5622df9650",
   "metadata": {},
   "outputs": [],
   "source": [
    "print(\"\".join(fruit))"
   ]
  },
  {
   "cell_type": "code",
   "execution_count": null,
   "id": "0892d57a-f0b5-49f4-92f1-fc49a9496faf",
   "metadata": {},
   "outputs": [],
   "source": []
  }
 ],
 "metadata": {
  "kernelspec": {
   "display_name": "Python 3 (ipykernel)",
   "language": "python",
   "name": "python3"
  },
  "language_info": {
   "codemirror_mode": {
    "name": "ipython",
    "version": 3
   },
   "file_extension": ".py",
   "mimetype": "text/x-python",
   "name": "python",
   "nbconvert_exporter": "python",
   "pygments_lexer": "ipython3",
   "version": "3.12.4"
  }
 },
 "nbformat": 4,
 "nbformat_minor": 5
}
